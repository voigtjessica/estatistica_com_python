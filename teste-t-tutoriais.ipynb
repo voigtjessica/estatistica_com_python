{
 "cells": [
  {
   "cell_type": "markdown",
   "metadata": {},
   "source": [
    "# Teste T\n",
    "\n",
    "## Independent Sample T-Test\n",
    "\n",
    "Estou comparando as médias de dois grupos distintos, para verificar se eles têm ou não têm uma média diferente.\n",
    "\n",
    "H0 = As médias entre os dois grupos são iguais\n",
    "H1 = as médias entre os dois grupos são diferentes\n",
    "\n",
    "\n",
    "Para esse exercício vou criar duas amostras: a primeira possui média de 50 e desvio padrão de 20, a segunda possui média 50 e desvio padrão de 15:"
   ]
  },
  {
   "cell_type": "code",
   "execution_count": 1,
   "metadata": {
    "ExecuteTime": {
     "end_time": "2020-06-15T04:18:06.907031Z",
     "start_time": "2020-06-15T04:18:06.892070Z"
    }
   },
   "outputs": [],
   "source": [
    "import random\n",
    "\n",
    "random.seed(20) #colocando uma semente para sempre ter o mesmo resultado!\n",
    "\n",
    "N = 50 #N dos meus dois grupos\n",
    "\n",
    "a = [random.gauss(55,20) for x in range(N)] \n",
    "b = [random.gauss(50,15) for x in range(N)] "
   ]
  },
  {
   "cell_type": "markdown",
   "metadata": {},
   "source": [
    "Agora eu vou plotar um histograma das minhas duas amostras:"
   ]
  },
  {
   "cell_type": "code",
   "execution_count": 4,
   "metadata": {
    "ExecuteTime": {
     "end_time": "2020-06-15T04:21:09.743251Z",
     "start_time": "2020-06-15T04:21:09.293834Z"
    }
   },
   "outputs": [
    {
     "data": {
      "text/plain": [
       "Text(0.5, 1.0, 'Independent Sample T-Test')"
      ]
     },
     "execution_count": 4,
     "metadata": {},
     "output_type": "execute_result"
    },
    {
     "data": {
      "image/png": "[encoded data removed]",
      "text/plain": [
       "<Figure size 432x288 with 1 Axes>"
      ]
     },
     "metadata": {
      "needs_background": "light"
     },
     "output_type": "display_data"
    }
   ],
   "source": [
    "import seaborn as sns\n",
    "import matplotlib.pyplot as plt\n",
    "\n",
    "sns.kdeplot(a, shade=True)\n",
    "sns.kdeplot(b, shade=True)\n",
    "\n",
    "plt.title(\"Independent Sample T-Test\")"
   ]
  },
  {
   "cell_type": "markdown",
   "metadata": {},
   "source": [
    "Vê-se que os conjuntos das diferentes amostras estão bem próximas uma da outra.\n",
    "\n",
    "Agora, baseado em H0 e H1 lá em cima, eu vou testar se as médias são ou não iguais usando o T-test:"
   ]
  },
  {
   "cell_type": "code",
   "execution_count": 5,
   "metadata": {
    "ExecuteTime": {
     "end_time": "2020-06-15T04:23:52.935599Z",
     "start_time": "2020-06-15T04:23:52.927588Z"
    }
   },
   "outputs": [
    {
     "name": "stdout",
     "output_type": "stream",
     "text": [
      "P-Value:0.017485741540118758 T-Statistic:2.421942924642376\n"
     ]
    }
   ],
   "source": [
    "from scipy import stats\n",
    "\n",
    "#Função que roda o independent sample T-Test\n",
    "tStat, pValue = stats.ttest_ind(a, b, equal_var = False)\n",
    "\n",
    "print(\"P-Value:{0} T-Statistic:{1}\".format(pValue,tStat)) #print the P-Value and the T-Statistic"
   ]
  },
  {
   "cell_type": "markdown",
   "metadata": {},
   "source": [
    "Importante: eu setei os desvios padrão aqui. Se não, teria que fazer o Levene's test para homosquececidade (verificar que as variâncias não nsão iguais ```equal_var``` )\n",
    "\n",
    "Se eu estabeleci um coeficiente de significância alfa = 0.05 , então eu posso rejeitar a hipótese nula de que as amostras são iguais. Agora, se o meu teste for mais rigoroso com alfa = 0.01, então eu não posso rejeitar a hipótese nula.\n",
    "\n",
    "## Paired Sample T-Test (teste pareado)\n",
    "\n",
    "Aqui vamos verificar se as médias de duas amostras da **mesma população** diferem ou não. Exemplo: a taxa de abertura de um mailing que passou por uma repaginação."
   ]
  },
  {
   "cell_type": "code",
   "execution_count": 6,
   "metadata": {
    "ExecuteTime": {
     "end_time": "2020-06-15T04:35:04.240233Z",
     "start_time": "2020-06-15T04:35:04.231254Z"
    }
   },
   "outputs": [],
   "source": [
    "random.seed(20) #setando a semente\n",
    "\n",
    "N = 30 #N das populações\n",
    "\n",
    "a = [random.gauss(50,15) for x in range(N)] #amostra antes da mudança\n",
    "b = [random.gauss(60,15) for x in range(N)] #amostra depois da mudança"
   ]
  },
  {
   "cell_type": "markdown",
   "metadata": {},
   "source": [
    "Hipótese nula:\n",
    "µd = 0 (a diferença média (d) entre as duas amostras é zero, indicando que a minha mudança não teve efeito)\n",
    "    \n",
    "Hipótese alternativa: \n",
    "µd ≠ 0 (a diferença média (d) entre as duas amostras é diferente de zero, indicando que a minha intervenção teve algum efeito )"
   ]
  },
  {
   "cell_type": "code",
   "execution_count": 7,
   "metadata": {
    "ExecuteTime": {
     "end_time": "2020-06-15T04:37:55.172322Z",
     "start_time": "2020-06-15T04:37:55.163344Z"
    }
   },
   "outputs": [
    {
     "name": "stdout",
     "output_type": "stream",
     "text": [
      "P-Value:0.007834002687720413 T-Statistic:-2.856841146891359\n"
     ]
    }
   ],
   "source": [
    "#Paired sample-test:\n",
    "tStat, pValue =  stats.ttest_rel(a, b)\n",
    "\n",
    "print(\"P-Value:{0} T-Statistic:{1}\".format(pValue,tStat)) "
   ]
  },
  {
   "cell_type": "markdown",
   "metadata": {},
   "source": [
    "Segundo esse teste estatístico, o nosso pvalue < 0.01, então podemos rejeitar a H0 e afirmar que a nossa mudança no mailing gerou impacto na taxa de abertura.\n",
    "\n",
    "## One-Sample T-Test\n",
    "\n",
    "Aqui nós estamos testando se a média da amostra é igual a uma média específica.\n",
    "Vou usar aqui um exemplo do livro \"Métodos estatísticos para as ciências sociais\" (AGRESTI; FINLAY, 2012). Neste exemplo, uma pesquisa foi realizada entre norte-americanos para descobrir se a população é mais liberal ou mais conservadora. Em uma escala de 1 a 7 os respondentes deveriam afirmar se eram mais liberais (1) ou mais conservadores (7) . \n",
    "\n"
   ]
  },
  {
   "cell_type": "code",
   "execution_count": 23,
   "metadata": {
    "ExecuteTime": {
     "end_time": "2020-06-15T05:06:59.919737Z",
     "start_time": "2020-06-15T05:06:59.906772Z"
    }
   },
   "outputs": [],
   "source": [
    "import numpy as np\n",
    "import pandas as pd\n",
    "\n",
    "psg = { 'score': [1,2,3,4,5,6,7], \n",
    "       'negro' : [10, 21, 22, 74, 21, 27, 11], \n",
    "       'branco' : [36, 109, 124, 421, 179, 176, 28], \n",
    "       'outra' : [1, 13, 13, 27, 9, 7, 2]}\n",
    "\n",
    "resposta =  ['1. Extremamente liberal', '2.Liberal', '3.Um pouco liberal', '4. Nem liberal, nem conservador',\n",
    "     '5. Um pouco conservador', '6. Conservador', '7. Extremamente conservador']\n",
    "\n",
    "psg = pd.DataFrame(psg, index = resposta)"
   ]
  },
  {
   "cell_type": "code",
   "execution_count": 24,
   "metadata": {
    "ExecuteTime": {
     "end_time": "2020-06-15T05:07:02.219211Z",
     "start_time": "2020-06-15T05:07:02.207244Z"
    }
   },
   "outputs": [
    {
     "data": {
      "text/html": [
       "<div>\n",
       "<style scoped>\n",
       "    .dataframe tbody tr th:only-of-type {\n",
       "        vertical-align: middle;\n",
       "    }\n",
       "\n",
       "    .dataframe tbody tr th {\n",
       "        vertical-align: top;\n",
       "    }\n",
       "\n",
       "    .dataframe thead th {\n",
       "        text-align: right;\n",
       "    }\n",
       "</style>\n",
       "<table border=\"1\" class=\"dataframe\">\n",
       "  <thead>\n",
       "    <tr style=\"text-align: right;\">\n",
       "      <th></th>\n",
       "      <th>score</th>\n",
       "      <th>negro</th>\n",
       "      <th>branco</th>\n",
       "      <th>outra</th>\n",
       "    </tr>\n",
       "  </thead>\n",
       "  <tbody>\n",
       "    <tr>\n",
       "      <th>1. Extremamente liberal</th>\n",
       "      <td>1</td>\n",
       "      <td>10</td>\n",
       "      <td>36</td>\n",
       "      <td>1</td>\n",
       "    </tr>\n",
       "    <tr>\n",
       "      <th>2.Liberal</th>\n",
       "      <td>2</td>\n",
       "      <td>21</td>\n",
       "      <td>109</td>\n",
       "      <td>13</td>\n",
       "    </tr>\n",
       "    <tr>\n",
       "      <th>3.Um pouco liberal</th>\n",
       "      <td>3</td>\n",
       "      <td>22</td>\n",
       "      <td>124</td>\n",
       "      <td>13</td>\n",
       "    </tr>\n",
       "    <tr>\n",
       "      <th>4. Nem liberal, nem conservador</th>\n",
       "      <td>4</td>\n",
       "      <td>74</td>\n",
       "      <td>421</td>\n",
       "      <td>27</td>\n",
       "    </tr>\n",
       "    <tr>\n",
       "      <th>5. Um pouco conservador</th>\n",
       "      <td>5</td>\n",
       "      <td>21</td>\n",
       "      <td>179</td>\n",
       "      <td>9</td>\n",
       "    </tr>\n",
       "    <tr>\n",
       "      <th>6. Conservador</th>\n",
       "      <td>6</td>\n",
       "      <td>27</td>\n",
       "      <td>176</td>\n",
       "      <td>7</td>\n",
       "    </tr>\n",
       "    <tr>\n",
       "      <th>7. Extremamente conservador</th>\n",
       "      <td>7</td>\n",
       "      <td>11</td>\n",
       "      <td>28</td>\n",
       "      <td>2</td>\n",
       "    </tr>\n",
       "  </tbody>\n",
       "</table>\n",
       "</div>"
      ],
      "text/plain": [
       "                                 score  negro  branco  outra\n",
       "1. Extremamente liberal              1     10      36      1\n",
       "2.Liberal                            2     21     109     13\n",
       "3.Um pouco liberal                   3     22     124     13\n",
       "4. Nem liberal, nem conservador      4     74     421     27\n",
       "5. Um pouco conservador              5     21     179      9\n",
       "6. Conservador                       6     27     176      7\n",
       "7. Extremamente conservador          7     11      28      2"
      ]
     },
     "execution_count": 24,
     "metadata": {},
     "output_type": "execute_result"
    }
   ],
   "source": [
    "psg"
   ]
  },
  {
   "cell_type": "code",
   "execution_count": 59,
   "metadata": {
    "ExecuteTime": {
     "end_time": "2020-06-15T05:34:41.830901Z",
     "start_time": "2020-06-15T05:34:41.813945Z"
    }
   },
   "outputs": [
    {
     "data": {
      "text/plain": [
       "array([1, 1, 1, 1, 1, 1, 1, 1, 1, 1, 1, 1, 1, 1, 1, 1, 1, 1, 1, 1, 1, 1,\n",
       "       1, 1, 1, 1, 1, 1, 1, 1, 1, 3, 3, 3, 3, 3, 3, 3, 3, 3, 3, 3, 3, 3,\n",
       "       3, 3, 3, 3, 3, 3, 3, 3, 3, 4, 4, 4, 4, 4, 4, 4, 4, 4, 4, 4, 4, 4,\n",
       "       4, 4, 4, 4, 4, 4, 4, 4, 4, 4, 4, 4, 4, 4, 4, 4, 4, 4, 4, 4, 4, 4,\n",
       "       4, 4, 4, 4, 4, 4, 4, 4, 4, 4, 4, 4, 4, 4, 4, 4, 4, 4, 4, 4, 4, 4,\n",
       "       4, 4, 4, 4, 4, 4, 4, 4, 4, 4, 4, 4, 4, 4, 4, 4, 4, 5, 5, 5, 5, 5,\n",
       "       5, 5, 5, 5, 5, 5, 5, 5, 5, 5, 5, 5, 5, 5, 5, 5, 6, 6, 6, 6, 6, 6,\n",
       "       6, 6, 6, 6, 6, 6, 6, 6, 6, 6, 6, 6, 6, 6, 6, 6, 6, 6, 6, 6, 6, 7,\n",
       "       7, 7, 7, 7, 7, 7, 7, 7, 7, 7])"
      ]
     },
     "execution_count": 59,
     "metadata": {},
     "output_type": "execute_result"
    }
   ],
   "source": [
    "# fazendo a escala:\n",
    "\n",
    "el = np.repeat(1, 10)\n",
    "l = np.repeat(1, 21)\n",
    "pl = np.repeat(3, 22)\n",
    "nn = np.repeat(4, 74)\n",
    "pc = np.repeat(5, 21)\n",
    "c = np.repeat(6, 27)\n",
    "ec = np.repeat(7, 11)\n",
    "\n",
    "negros = np.array([el, l, pl, nn, pc, c, ec])\n",
    "negros = np.concatenate( negros, axis=0 )\n",
    "\n",
    "#Minha média observada é essa:\n",
    "negros"
   ]
  },
  {
   "cell_type": "markdown",
   "metadata": {},
   "source": [
    "Bom, aqui as minhas hipóteses são:\n",
    "\n",
    "H0 : µd = 4 , ou seja não existe tendência para ser mais conservador nem mais liberal;\n",
    "H1 : µd ≠ 4 , ou seja, existe alguma tendência.\n",
    "    \n",
    "    "
   ]
  },
  {
   "cell_type": "code",
   "execution_count": 71,
   "metadata": {
    "ExecuteTime": {
     "end_time": "2020-06-15T05:44:44.249430Z",
     "start_time": "2020-06-15T05:44:44.242447Z"
    }
   },
   "outputs": [
    {
     "name": "stdout",
     "output_type": "stream",
     "text": [
      "P-Value:0.7617706324448296 T-Statistic:-0.30360419068443184\n"
     ]
    }
   ],
   "source": [
    "import scipy\n",
    "from scipy import stats\n",
    "\n",
    "#ideal\n",
    "popmean = 4  #hypothesized population mean\n",
    "\n",
    "\n",
    "#teste:\n",
    "tStat, pValue =  scipy.stats.ttest_1samp(negros, popmean, axis=0)\n",
    "\n",
    "print(\"P-Value:{0} T-Statistic:{1}\".format(pValue,tStat)) "
   ]
  },
  {
   "cell_type": "markdown",
   "metadata": {},
   "source": [
    "O meu p-value deu 0.7, o que implica que não podemos rejeitar a H0"
   ]
  }
 ],
 "metadata": {
  "hide_input": false,
  "kernelspec": {
   "display_name": "Python 3",
   "language": "python",
   "name": "python3"
  },
  "language_info": {
   "codemirror_mode": {
    "name": "ipython",
    "version": 3
   },
   "file_extension": ".py",
   "mimetype": "text/x-python",
   "name": "python",
   "nbconvert_exporter": "python",
   "pygments_lexer": "ipython3",
   "version": "3.7.3"
  },
  "toc": {
   "base_numbering": 1,
   "nav_menu": {},
   "number_sections": true,
   "sideBar": true,
   "skip_h1_title": false,
   "title_cell": "Table of Contents",
   "title_sidebar": "Contents",
   "toc_cell": false,
   "toc_position": {},
   "toc_section_display": true,
   "toc_window_display": false
  },
  "varInspector": {
   "cols": {
    "lenName": 16,
    "lenType": 16,
    "lenVar": 40
   },
   "kernels_config": {
    "python": {
     "delete_cmd_postfix": "",
     "delete_cmd_prefix": "del ",
     "library": "var_list.py",
     "varRefreshCmd": "print(var_dic_list())"
    },
    "r": {
     "delete_cmd_postfix": ") ",
     "delete_cmd_prefix": "rm(",
     "library": "var_list.r",
     "varRefreshCmd": "cat(var_dic_list()) "
    }
   },
   "types_to_exclude": [
    "module",
    "function",
    "builtin_function_or_method",
    "instance",
    "_Feature"
   ],
   "window_display": false
  }
 },
 "nbformat": 4,
 "nbformat_minor": 2
}
