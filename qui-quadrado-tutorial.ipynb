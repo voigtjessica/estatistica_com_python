{
 "cells": [
  {
   "cell_type": "markdown",
   "metadata": {},
   "source": [
    "# Teste Qui-Quadrado:\n",
    "\n",
    "Um teste qui-quadrado serve para observar a associação entre duas variáveis categóricas. \n",
    "\n",
    "*Lembrando: variáveis categóricas são aquelas que contêm um número finito de categorias. Os dados categóricos podem não ter uma ordem lógica. Por exemplo, os preditores categóricos incluem gênero, tipo de material e método de pagamento, inclinação política, etc.*\n",
    "\n",
    "O primeiro passo para verificar uma associação entre duas variáveis é construir uma tabela de contingência (usando groupby). Vamos utilizar o exemplo do livro e ver uma tabela de contingência já formada: identificação partidária X gênero para os dados da PSG:"
   ]
  },
  {
   "cell_type": "code",
   "execution_count": 2,
   "metadata": {
    "ExecuteTime": {
     "end_time": "2020-06-15T06:17:32.045040Z",
     "start_time": "2020-06-15T06:17:31.083338Z"
    }
   },
   "outputs": [],
   "source": [
    "import numpy as np\n",
    "import pandas as pd\n",
    "from scipy import stats"
   ]
  },
  {
   "cell_type": "code",
   "execution_count": 14,
   "metadata": {
    "ExecuteTime": {
     "end_time": "2020-06-15T06:34:30.906342Z",
     "start_time": "2020-06-15T06:34:30.887393Z"
    },
    "scrolled": true
   },
   "outputs": [
    {
     "data": {
      "text/html": [
       "<div>\n",
       "<style scoped>\n",
       "    .dataframe tbody tr th:only-of-type {\n",
       "        vertical-align: middle;\n",
       "    }\n",
       "\n",
       "    .dataframe tbody tr th {\n",
       "        vertical-align: top;\n",
       "    }\n",
       "\n",
       "    .dataframe thead th {\n",
       "        text-align: right;\n",
       "    }\n",
       "</style>\n",
       "<table border=\"1\" class=\"dataframe\">\n",
       "  <thead>\n",
       "    <tr style=\"text-align: right;\">\n",
       "      <th></th>\n",
       "      <th>democratas</th>\n",
       "      <th>independente</th>\n",
       "      <th>republicano</th>\n",
       "      <th>total</th>\n",
       "    </tr>\n",
       "  </thead>\n",
       "  <tbody>\n",
       "    <tr>\n",
       "      <th>mulheres</th>\n",
       "      <td>573</td>\n",
       "      <td>516</td>\n",
       "      <td>422</td>\n",
       "      <td>1511</td>\n",
       "    </tr>\n",
       "    <tr>\n",
       "      <th>homens</th>\n",
       "      <td>386</td>\n",
       "      <td>475</td>\n",
       "      <td>399</td>\n",
       "      <td>1260</td>\n",
       "    </tr>\n",
       "    <tr>\n",
       "      <th>total</th>\n",
       "      <td>959</td>\n",
       "      <td>991</td>\n",
       "      <td>821</td>\n",
       "      <td>2771</td>\n",
       "    </tr>\n",
       "  </tbody>\n",
       "</table>\n",
       "</div>"
      ],
      "text/plain": [
       "          democratas  independente  republicano  total\n",
       "mulheres         573           516          422   1511\n",
       "homens           386           475          399   1260\n",
       "total            959           991          821   2771"
      ]
     },
     "execution_count": 14,
     "metadata": {},
     "output_type": "execute_result"
    }
   ],
   "source": [
    "genero = ['mulheres', 'homens', 'total']\n",
    "\n",
    "df = {'democratas' : [573, 386, 959],\n",
    "       'independente': [516, 475, 991],\n",
    "       'republicano': [422, 399, 821],\n",
    "       'total': [1511, 1260, 2771]}\n",
    "\n",
    "df = pd.DataFrame(df, index = genero)\n",
    "df"
   ]
  },
  {
   "cell_type": "markdown",
   "metadata": {},
   "source": [
    "Na prática, é padrão formar a tabela de contingência da seguinte forma: linha = variável explicativa e coluna = variável dependente\n",
    "\n",
    "Aqui, queremos responder a seguinte pergunta: a distribuição partidária está associada ao gênero? Para isso vamos fazer o teste qui-quadrado de independência.\n",
    "\n",
    "Apesar dos números percentuais nos dizerem algo, o que quer que esteja sendo dito pode ser fruto não de uma relação real, mas da variação amostral. Ou seja, se a nossa pesquisa tivesse sido feita com outros homens e mulheres, esse resultado **a princípio** poderia ser outro.\n",
    "\n",
    "Aqui está um resultado ideal, em que gênero não está associado a identificação partidária e que todas as proporções são iguais (frequências esperadas) :"
   ]
  },
  {
   "cell_type": "code",
   "execution_count": 7,
   "metadata": {
    "ExecuteTime": {
     "end_time": "2020-06-15T06:29:21.302360Z",
     "start_time": "2020-06-15T06:29:21.286402Z"
    },
    "scrolled": true
   },
   "outputs": [
    {
     "data": {
      "text/html": [
       "<div>\n",
       "<style scoped>\n",
       "    .dataframe tbody tr th:only-of-type {\n",
       "        vertical-align: middle;\n",
       "    }\n",
       "\n",
       "    .dataframe tbody tr th {\n",
       "        vertical-align: top;\n",
       "    }\n",
       "\n",
       "    .dataframe thead th {\n",
       "        text-align: right;\n",
       "    }\n",
       "</style>\n",
       "<table border=\"1\" class=\"dataframe\">\n",
       "  <thead>\n",
       "    <tr style=\"text-align: right;\">\n",
       "      <th></th>\n",
       "      <th>democratas</th>\n",
       "      <th>independente</th>\n",
       "      <th>republicano</th>\n",
       "      <th>total</th>\n",
       "    </tr>\n",
       "  </thead>\n",
       "  <tbody>\n",
       "    <tr>\n",
       "      <th>mulheres</th>\n",
       "      <td>522.9</td>\n",
       "      <td>540.4</td>\n",
       "      <td>447.7</td>\n",
       "      <td>1511</td>\n",
       "    </tr>\n",
       "    <tr>\n",
       "      <th>homens</th>\n",
       "      <td>436.1</td>\n",
       "      <td>450.6</td>\n",
       "      <td>373.3</td>\n",
       "      <td>1260</td>\n",
       "    </tr>\n",
       "    <tr>\n",
       "      <th>total</th>\n",
       "      <td>959.0</td>\n",
       "      <td>991.0</td>\n",
       "      <td>821.0</td>\n",
       "      <td>2771</td>\n",
       "    </tr>\n",
       "  </tbody>\n",
       "</table>\n",
       "</div>"
      ],
      "text/plain": [
       "          democratas  independente  republicano  total\n",
       "mulheres       522.9         540.4        447.7   1511\n",
       "homens         436.1         450.6        373.3   1260\n",
       "total          959.0         991.0        821.0   2771"
      ]
     },
     "execution_count": 7,
     "metadata": {},
     "output_type": "execute_result"
    }
   ],
   "source": [
    "data_ideal = {'democratas' : [522.9, 436.1, 959],\n",
    "       'independente': [540.4, 450.6, 991],\n",
    "       'republicano': [447.7, 373.3, 821],\n",
    "       'total': [1511, 1260, 2771]}\n",
    "\n",
    "data_ideal = pd.DataFrame(data_ideal, index = genero)\n",
    "data_ideal"
   ]
  },
  {
   "cell_type": "markdown",
   "metadata": {},
   "source": [
    "Agora vamos rodar o teste:"
   ]
  },
  {
   "cell_type": "code",
   "execution_count": 16,
   "metadata": {
    "ExecuteTime": {
     "end_time": "2020-06-15T06:35:13.303704Z",
     "start_time": "2020-06-15T06:35:13.291737Z"
    }
   },
   "outputs": [
    {
     "data": {
      "text/plain": [
       "array([[573, 516, 422],\n",
       "       [386, 475, 399]], dtype=int64)"
      ]
     },
     "execution_count": 16,
     "metadata": {},
     "output_type": "execute_result"
    }
   ],
   "source": [
    "#tirando totais:\n",
    "df = df.iloc[:2]\n",
    "\n",
    "data = df[['democratas', 'independente', 'republicano']].to_numpy()\n",
    "data"
   ]
  },
  {
   "cell_type": "code",
   "execution_count": 17,
   "metadata": {
    "ExecuteTime": {
     "end_time": "2020-06-15T06:35:42.067915Z",
     "start_time": "2020-06-15T06:35:42.059937Z"
    }
   },
   "outputs": [
    {
     "data": {
      "text/plain": [
       "(16.201726038971145,\n",
       " 0.0003032772908939342,\n",
       " 2,\n",
       " array([[522.93359798, 540.38289426, 447.68350776],\n",
       "        [436.06640202, 450.61710574, 373.31649224]]))"
      ]
     },
     "execution_count": 17,
     "metadata": {},
     "output_type": "execute_result"
    }
   ],
   "source": [
    "#Rodando o teste qui-quadrado:\n",
    "\n",
    "stats.chi2_contingency(data)"
   ]
  },
  {
   "cell_type": "markdown",
   "metadata": {},
   "source": [
    "* Primeiro número: Estatística qui-quadrado\n",
    "* Segundo número: P-value\n",
    "* Terceiro número: Graus de liberdade = (linhas - 1) * (colunas - 1)\n",
    "\n",
    "Para deixar bonitinho na hora de printar:"
   ]
  },
  {
   "cell_type": "code",
   "execution_count": 18,
   "metadata": {
    "ExecuteTime": {
     "end_time": "2020-06-15T06:39:34.661109Z",
     "start_time": "2020-06-15T06:39:34.652133Z"
    },
    "scrolled": true
   },
   "outputs": [
    {
     "name": "stdout",
     "output_type": "stream",
     "text": [
      "===Chi2 Stat===\n",
      "16.201726038971145\n",
      "\n",
      "\n",
      "===Degrees of Freedom===\n",
      "2\n",
      "\n",
      "\n",
      "===P-Value===\n",
      "0.0003032772908939342\n",
      "\n",
      "\n",
      "===Contingency Table===\n",
      "[[522.93359798 540.38289426 447.68350776]\n",
      " [436.06640202 450.61710574 373.31649224]]\n"
     ]
    }
   ],
   "source": [
    "chi2_stat, p_val, dof, ex = stats.chi2_contingency(data)\n",
    "\n",
    "print(\"===Chi2 Stat===\")\n",
    "print(chi2_stat)\n",
    "print(\"\\n\")\n",
    "print(\"===Degrees of Freedom===\")\n",
    "print(dof)\n",
    "print(\"\\n\")\n",
    "print(\"===P-Value===\")\n",
    "print(p_val)\n",
    "print(\"\\n\")\n",
    "print(\"===Contingency Table===\")\n",
    "print(ex)"
   ]
  },
  {
   "cell_type": "markdown",
   "metadata": {},
   "source": [
    "Mesmo adotando um nível de significância super forte ( alfa = 0.01), o p-valor nos permite rejeitar a hipótese nula, ou seja, existe relação entre gênero e identidade eleitoral."
   ]
  }
 ],
 "metadata": {
  "hide_input": false,
  "kernelspec": {
   "display_name": "Python 3",
   "language": "python",
   "name": "python3"
  },
  "language_info": {
   "codemirror_mode": {
    "name": "ipython",
    "version": 3
   },
   "file_extension": ".py",
   "mimetype": "text/x-python",
   "name": "python",
   "nbconvert_exporter": "python",
   "pygments_lexer": "ipython3",
   "version": "3.7.3"
  },
  "toc": {
   "base_numbering": 1,
   "nav_menu": {},
   "number_sections": true,
   "sideBar": true,
   "skip_h1_title": false,
   "title_cell": "Table of Contents",
   "title_sidebar": "Contents",
   "toc_cell": false,
   "toc_position": {},
   "toc_section_display": true,
   "toc_window_display": false
  },
  "varInspector": {
   "cols": {
    "lenName": 16,
    "lenType": 16,
    "lenVar": 40
   },
   "kernels_config": {
    "python": {
     "delete_cmd_postfix": "",
     "delete_cmd_prefix": "del ",
     "library": "var_list.py",
     "varRefreshCmd": "print(var_dic_list())"
    },
    "r": {
     "delete_cmd_postfix": ") ",
     "delete_cmd_prefix": "rm(",
     "library": "var_list.r",
     "varRefreshCmd": "cat(var_dic_list()) "
    }
   },
   "types_to_exclude": [
    "module",
    "function",
    "builtin_function_or_method",
    "instance",
    "_Feature"
   ],
   "window_display": false
  }
 },
 "nbformat": 4,
 "nbformat_minor": 2
}
